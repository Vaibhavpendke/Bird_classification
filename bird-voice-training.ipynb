{
 "cells": [
  {
   "cell_type": "code",
   "execution_count": 6,
   "metadata": {
    "execution": {
     "iopub.execute_input": "2023-04-28T12:40:49.210383Z",
     "iopub.status.busy": "2023-04-28T12:40:49.209965Z",
     "iopub.status.idle": "2023-04-28T12:40:58.298768Z",
     "shell.execute_reply": "2023-04-28T12:40:58.297592Z",
     "shell.execute_reply.started": "2023-04-28T12:40:49.210343Z"
    }
   },
   "outputs": [],
   "source": [
    "import tensorflow as tf\n",
    "from tensorflow import keras\n",
    "from tensorflow.keras import layers\n",
    "from tensorflow.keras.models import Sequential\n",
    "from keras.utils import image_utils\n",
    "import os\n",
    "import numpy as np\n",
    "from tensorflow.keras.preprocessing.image import ImageDataGenerator\n",
    "from PIL import Image"
   ]
  },
  {
   "cell_type": "code",
   "execution_count": 2,
   "metadata": {
    "execution": {
     "iopub.execute_input": "2023-04-28T12:40:58.301882Z",
     "iopub.status.busy": "2023-04-28T12:40:58.301149Z",
     "iopub.status.idle": "2023-04-28T12:40:58.639351Z",
     "shell.execute_reply": "2023-04-28T12:40:58.63803Z",
     "shell.execute_reply.started": "2023-04-28T12:40:58.301836Z"
    }
   },
   "outputs": [
    {
     "name": "stdout",
     "output_type": "stream",
     "text": [
      "Num GPUs Available:  1\n"
     ]
    }
   ],
   "source": [
    "print(\"Num GPUs Available: \", len(tf.config.list_physical_devices('GPU')))"
   ]
  },
  {
   "cell_type": "code",
   "execution_count": 3,
   "metadata": {
    "execution": {
     "iopub.execute_input": "2023-04-28T12:40:58.65688Z",
     "iopub.status.busy": "2023-04-28T12:40:58.656542Z",
     "iopub.status.idle": "2023-04-28T12:41:26.306865Z",
     "shell.execute_reply": "2023-04-28T12:41:26.305808Z",
     "shell.execute_reply.started": "2023-04-28T12:40:58.656833Z"
    }
   },
   "outputs": [
    {
     "name": "stdout",
     "output_type": "stream",
     "text": [
      "Found 17585 images belonging to 20 classes.\n",
      "Found 1943 images belonging to 20 classes.\n"
     ]
    }
   ],
   "source": [
    "# Set root directory\n",
    "root_dir = 'spectrogram/'\n",
    "\n",
    "# Define the image classes\n",
    "classes = os.listdir(root_dir)\n",
    "\n",
    "# Set the data generator\n",
    "datagen = ImageDataGenerator(rescale=1./255, validation_split=0.1)\n",
    "batch_size = 10\n",
    "\n",
    "# Load the images using the data generator\n",
    "train_generator = datagen.flow_from_directory(\n",
    "    root_dir,\n",
    "    target_size=(128, 128),\n",
    "    batch_size=batch_size,\n",
    "    class_mode='categorical',\n",
    "    subset='training'\n",
    ")\n",
    "\n",
    "validation_generator = datagen.flow_from_directory(\n",
    "    root_dir,\n",
    "    target_size=(128, 128),\n",
    "    batch_size=batch_size,\n",
    "    class_mode='categorical',\n",
    "    subset='validation'\n",
    ")\n",
    "\n",
    "# Save the class labels\n",
    "class_labels = list(train_generator.class_indices.keys())\n",
    "\n",
    "# Convert the generators to numpy arrays\n",
    "train_images, train_labels = next(train_generator)\n",
    "test_images, test_labels = next(validation_generator)"
   ]
  },
  {
   "cell_type": "code",
   "execution_count": 4,
   "metadata": {},
   "outputs": [
    {
     "name": "stdout",
     "output_type": "stream",
     "text": [
      "(128, 128, 3)\n"
     ]
    }
   ],
   "source": [
    "print(train_images[0].shape)"
   ]
  },
  {
   "attachments": {},
   "cell_type": "markdown",
   "metadata": {},
   "source": [
    "# Buidling Model"
   ]
  },
  {
   "cell_type": "code",
   "execution_count": 5,
   "metadata": {
    "execution": {
     "iopub.execute_input": "2023-04-28T12:41:26.318542Z",
     "iopub.status.busy": "2023-04-28T12:41:26.31781Z",
     "iopub.status.idle": "2023-04-28T12:41:29.723121Z",
     "shell.execute_reply": "2023-04-28T12:41:29.72206Z",
     "shell.execute_reply.started": "2023-04-28T12:41:26.318504Z"
    }
   },
   "outputs": [],
   "source": [
    "model = tf.keras.models.Sequential()"
   ]
  },
  {
   "attachments": {},
   "cell_type": "markdown",
   "metadata": {},
   "source": [
    "## Conv Layer 1"
   ]
  },
  {
   "cell_type": "code",
   "execution_count": 6,
   "metadata": {
    "execution": {
     "iopub.execute_input": "2023-04-28T12:41:29.72486Z",
     "iopub.status.busy": "2023-04-28T12:41:29.724449Z",
     "iopub.status.idle": "2023-04-28T12:41:29.79533Z",
     "shell.execute_reply": "2023-04-28T12:41:29.794325Z",
     "shell.execute_reply.started": "2023-04-28T12:41:29.724819Z"
    }
   },
   "outputs": [],
   "source": [
    "model.add(tf.keras.layers.Conv2D(filters=32, kernel_size=3, activation='relu', input_shape=[128, 128, 3]))"
   ]
  },
  {
   "cell_type": "code",
   "execution_count": 7,
   "metadata": {
    "execution": {
     "iopub.execute_input": "2023-04-28T12:41:29.798162Z",
     "iopub.status.busy": "2023-04-28T12:41:29.797512Z",
     "iopub.status.idle": "2023-04-28T12:41:29.818213Z",
     "shell.execute_reply": "2023-04-28T12:41:29.817246Z",
     "shell.execute_reply.started": "2023-04-28T12:41:29.798122Z"
    }
   },
   "outputs": [],
   "source": [
    "model.add(tf.keras.layers.BatchNormalization())"
   ]
  },
  {
   "cell_type": "code",
   "execution_count": 8,
   "metadata": {
    "execution": {
     "iopub.execute_input": "2023-04-28T12:41:29.821058Z",
     "iopub.status.busy": "2023-04-28T12:41:29.820471Z",
     "iopub.status.idle": "2023-04-28T12:41:29.830872Z",
     "shell.execute_reply": "2023-04-28T12:41:29.829922Z",
     "shell.execute_reply.started": "2023-04-28T12:41:29.82102Z"
    }
   },
   "outputs": [],
   "source": [
    "model.add(tf.keras.layers.MaxPool2D(pool_size=2, strides=2))"
   ]
  },
  {
   "cell_type": "code",
   "execution_count": 9,
   "metadata": {
    "execution": {
     "iopub.execute_input": "2023-04-28T12:41:29.836483Z",
     "iopub.status.busy": "2023-04-28T12:41:29.836206Z",
     "iopub.status.idle": "2023-04-28T12:41:29.846575Z",
     "shell.execute_reply": "2023-04-28T12:41:29.845514Z",
     "shell.execute_reply.started": "2023-04-28T12:41:29.836457Z"
    }
   },
   "outputs": [],
   "source": [
    "model.add(tf.keras.layers.Dropout(0.25))"
   ]
  },
  {
   "attachments": {},
   "cell_type": "markdown",
   "metadata": {},
   "source": [
    "## Conv Layer 2"
   ]
  },
  {
   "cell_type": "code",
   "execution_count": 10,
   "metadata": {
    "execution": {
     "iopub.execute_input": "2023-04-28T12:41:29.848799Z",
     "iopub.status.busy": "2023-04-28T12:41:29.848356Z",
     "iopub.status.idle": "2023-04-28T12:41:29.86965Z",
     "shell.execute_reply": "2023-04-28T12:41:29.868784Z",
     "shell.execute_reply.started": "2023-04-28T12:41:29.848755Z"
    }
   },
   "outputs": [],
   "source": [
    "model.add(tf.keras.layers.Conv2D(filters=64, kernel_size=3, activation='relu'))"
   ]
  },
  {
   "cell_type": "code",
   "execution_count": 11,
   "metadata": {
    "execution": {
     "iopub.execute_input": "2023-04-28T12:41:29.872852Z",
     "iopub.status.busy": "2023-04-28T12:41:29.872554Z",
     "iopub.status.idle": "2023-04-28T12:41:29.890496Z",
     "shell.execute_reply": "2023-04-28T12:41:29.889393Z",
     "shell.execute_reply.started": "2023-04-28T12:41:29.872824Z"
    }
   },
   "outputs": [],
   "source": [
    "model.add(tf.keras.layers.BatchNormalization())"
   ]
  },
  {
   "cell_type": "code",
   "execution_count": 12,
   "metadata": {
    "execution": {
     "iopub.execute_input": "2023-04-28T12:41:29.893299Z",
     "iopub.status.busy": "2023-04-28T12:41:29.892887Z",
     "iopub.status.idle": "2023-04-28T12:41:29.903127Z",
     "shell.execute_reply": "2023-04-28T12:41:29.902027Z",
     "shell.execute_reply.started": "2023-04-28T12:41:29.893264Z"
    }
   },
   "outputs": [],
   "source": [
    "model.add(tf.keras.layers.MaxPool2D(pool_size=2,strides=2))"
   ]
  },
  {
   "cell_type": "code",
   "execution_count": 13,
   "metadata": {
    "execution": {
     "iopub.execute_input": "2023-04-28T12:41:29.905953Z",
     "iopub.status.busy": "2023-04-28T12:41:29.904476Z",
     "iopub.status.idle": "2023-04-28T12:41:29.914929Z",
     "shell.execute_reply": "2023-04-28T12:41:29.913798Z",
     "shell.execute_reply.started": "2023-04-28T12:41:29.905915Z"
    }
   },
   "outputs": [],
   "source": [
    "model.add(tf.keras.layers.Dropout(0.25))"
   ]
  },
  {
   "attachments": {},
   "cell_type": "markdown",
   "metadata": {},
   "source": [
    "## Conv Layer 3"
   ]
  },
  {
   "cell_type": "code",
   "execution_count": 14,
   "metadata": {
    "execution": {
     "iopub.execute_input": "2023-04-28T12:41:29.917138Z",
     "iopub.status.busy": "2023-04-28T12:41:29.916788Z",
     "iopub.status.idle": "2023-04-28T12:41:29.938888Z",
     "shell.execute_reply": "2023-04-28T12:41:29.938026Z",
     "shell.execute_reply.started": "2023-04-28T12:41:29.917102Z"
    }
   },
   "outputs": [],
   "source": [
    "model.add(tf.keras.layers.Conv2D(filters=128,kernel_size=3,activation='relu'))"
   ]
  },
  {
   "cell_type": "code",
   "execution_count": 15,
   "metadata": {
    "execution": {
     "iopub.execute_input": "2023-04-28T12:41:29.940877Z",
     "iopub.status.busy": "2023-04-28T12:41:29.940475Z",
     "iopub.status.idle": "2023-04-28T12:41:29.959694Z",
     "shell.execute_reply": "2023-04-28T12:41:29.958793Z",
     "shell.execute_reply.started": "2023-04-28T12:41:29.940841Z"
    }
   },
   "outputs": [],
   "source": [
    "model.add(tf.keras.layers.BatchNormalization())"
   ]
  },
  {
   "cell_type": "code",
   "execution_count": 16,
   "metadata": {
    "execution": {
     "iopub.execute_input": "2023-04-28T12:41:29.961668Z",
     "iopub.status.busy": "2023-04-28T12:41:29.961316Z",
     "iopub.status.idle": "2023-04-28T12:41:29.971921Z",
     "shell.execute_reply": "2023-04-28T12:41:29.970809Z",
     "shell.execute_reply.started": "2023-04-28T12:41:29.961632Z"
    }
   },
   "outputs": [],
   "source": [
    "model.add(tf.keras.layers.MaxPool2D(pool_size=2,strides=2))"
   ]
  },
  {
   "cell_type": "code",
   "execution_count": 17,
   "metadata": {
    "execution": {
     "iopub.execute_input": "2023-04-28T12:41:29.974651Z",
     "iopub.status.busy": "2023-04-28T12:41:29.973614Z",
     "iopub.status.idle": "2023-04-28T12:41:29.984326Z",
     "shell.execute_reply": "2023-04-28T12:41:29.983239Z",
     "shell.execute_reply.started": "2023-04-28T12:41:29.97461Z"
    }
   },
   "outputs": [],
   "source": [
    "model.add(tf.keras.layers.Dropout(0.25))"
   ]
  },
  {
   "attachments": {},
   "cell_type": "markdown",
   "metadata": {},
   "source": [
    "## Conv Layer 4"
   ]
  },
  {
   "cell_type": "code",
   "execution_count": 18,
   "metadata": {
    "execution": {
     "iopub.execute_input": "2023-04-28T12:41:29.986324Z",
     "iopub.status.busy": "2023-04-28T12:41:29.985666Z",
     "iopub.status.idle": "2023-04-28T12:41:30.009437Z",
     "shell.execute_reply": "2023-04-28T12:41:30.008541Z",
     "shell.execute_reply.started": "2023-04-28T12:41:29.986278Z"
    }
   },
   "outputs": [],
   "source": [
    "model.add(tf.keras.layers.Conv2D(filters=256,kernel_size=3,activation='relu'))"
   ]
  },
  {
   "cell_type": "code",
   "execution_count": 19,
   "metadata": {
    "execution": {
     "iopub.execute_input": "2023-04-28T12:41:30.012833Z",
     "iopub.status.busy": "2023-04-28T12:41:30.012539Z",
     "iopub.status.idle": "2023-04-28T12:41:30.030635Z",
     "shell.execute_reply": "2023-04-28T12:41:30.029713Z",
     "shell.execute_reply.started": "2023-04-28T12:41:30.012806Z"
    }
   },
   "outputs": [],
   "source": [
    "model.add(tf.keras.layers.BatchNormalization())"
   ]
  },
  {
   "cell_type": "code",
   "execution_count": 20,
   "metadata": {
    "execution": {
     "iopub.execute_input": "2023-04-28T12:41:30.032466Z",
     "iopub.status.busy": "2023-04-28T12:41:30.032149Z",
     "iopub.status.idle": "2023-04-28T12:41:30.043161Z",
     "shell.execute_reply": "2023-04-28T12:41:30.042145Z",
     "shell.execute_reply.started": "2023-04-28T12:41:30.032433Z"
    }
   },
   "outputs": [],
   "source": [
    "model.add(tf.keras.layers.MaxPool2D(pool_size=2,strides=2))"
   ]
  },
  {
   "cell_type": "code",
   "execution_count": 21,
   "metadata": {
    "execution": {
     "iopub.execute_input": "2023-04-28T12:41:30.045246Z",
     "iopub.status.busy": "2023-04-28T12:41:30.04477Z",
     "iopub.status.idle": "2023-04-28T12:41:30.055212Z",
     "shell.execute_reply": "2023-04-28T12:41:30.054174Z",
     "shell.execute_reply.started": "2023-04-28T12:41:30.045205Z"
    }
   },
   "outputs": [],
   "source": [
    "model.add(tf.keras.layers.Dropout(0.25))"
   ]
  },
  {
   "attachments": {},
   "cell_type": "markdown",
   "metadata": {},
   "source": [
    "## Flattening"
   ]
  },
  {
   "cell_type": "code",
   "execution_count": 22,
   "metadata": {
    "execution": {
     "iopub.execute_input": "2023-04-28T12:41:30.057291Z",
     "iopub.status.busy": "2023-04-28T12:41:30.05682Z",
     "iopub.status.idle": "2023-04-28T12:41:30.069427Z",
     "shell.execute_reply": "2023-04-28T12:41:30.068462Z",
     "shell.execute_reply.started": "2023-04-28T12:41:30.057254Z"
    }
   },
   "outputs": [],
   "source": [
    "model.add(tf.keras.layers.Flatten())"
   ]
  },
  {
   "attachments": {},
   "cell_type": "markdown",
   "metadata": {},
   "source": [
    "## Dense Layer 1"
   ]
  },
  {
   "cell_type": "code",
   "execution_count": 23,
   "metadata": {
    "execution": {
     "iopub.execute_input": "2023-04-28T12:41:30.071667Z",
     "iopub.status.busy": "2023-04-28T12:41:30.071045Z",
     "iopub.status.idle": "2023-04-28T12:41:30.090465Z",
     "shell.execute_reply": "2023-04-28T12:41:30.089572Z",
     "shell.execute_reply.started": "2023-04-28T12:41:30.07163Z"
    }
   },
   "outputs": [],
   "source": [
    "model.add(tf.keras.layers.Dense(64))"
   ]
  },
  {
   "cell_type": "code",
   "execution_count": 24,
   "metadata": {
    "execution": {
     "iopub.execute_input": "2023-04-28T12:41:30.092364Z",
     "iopub.status.busy": "2023-04-28T12:41:30.092002Z",
     "iopub.status.idle": "2023-04-28T12:41:30.114502Z",
     "shell.execute_reply": "2023-04-28T12:41:30.113586Z",
     "shell.execute_reply.started": "2023-04-28T12:41:30.092329Z"
    }
   },
   "outputs": [],
   "source": [
    "model.add(tf.keras.layers.BatchNormalization())"
   ]
  },
  {
   "cell_type": "code",
   "execution_count": 25,
   "metadata": {
    "execution": {
     "iopub.execute_input": "2023-04-28T12:41:30.11643Z",
     "iopub.status.busy": "2023-04-28T12:41:30.116083Z",
     "iopub.status.idle": "2023-04-28T12:41:30.127547Z",
     "shell.execute_reply": "2023-04-28T12:41:30.126459Z",
     "shell.execute_reply.started": "2023-04-28T12:41:30.116395Z"
    }
   },
   "outputs": [],
   "source": [
    "model.add(tf.keras.layers.Dropout(0.25))"
   ]
  },
  {
   "attachments": {},
   "cell_type": "markdown",
   "metadata": {},
   "source": [
    "## Dense Layer 2"
   ]
  },
  {
   "cell_type": "code",
   "execution_count": 26,
   "metadata": {
    "execution": {
     "iopub.execute_input": "2023-04-28T12:41:30.129558Z",
     "iopub.status.busy": "2023-04-28T12:41:30.129201Z",
     "iopub.status.idle": "2023-04-28T12:41:30.146525Z",
     "shell.execute_reply": "2023-04-28T12:41:30.145917Z",
     "shell.execute_reply.started": "2023-04-28T12:41:30.129518Z"
    }
   },
   "outputs": [],
   "source": [
    "model.add(tf.keras.layers.Dense(32))"
   ]
  },
  {
   "cell_type": "code",
   "execution_count": 27,
   "metadata": {
    "execution": {
     "iopub.execute_input": "2023-04-28T12:41:30.152376Z",
     "iopub.status.busy": "2023-04-28T12:41:30.152102Z",
     "iopub.status.idle": "2023-04-28T12:41:30.173673Z",
     "shell.execute_reply": "2023-04-28T12:41:30.172785Z",
     "shell.execute_reply.started": "2023-04-28T12:41:30.152351Z"
    }
   },
   "outputs": [],
   "source": [
    "model.add(tf.keras.layers.BatchNormalization())"
   ]
  },
  {
   "cell_type": "code",
   "execution_count": 28,
   "metadata": {
    "execution": {
     "iopub.execute_input": "2023-04-28T12:41:30.175911Z",
     "iopub.status.busy": "2023-04-28T12:41:30.175263Z",
     "iopub.status.idle": "2023-04-28T12:41:30.185104Z",
     "shell.execute_reply": "2023-04-28T12:41:30.184334Z",
     "shell.execute_reply.started": "2023-04-28T12:41:30.175874Z"
    }
   },
   "outputs": [],
   "source": [
    "model.add(tf.keras.layers.Dropout(0.25))"
   ]
  },
  {
   "attachments": {},
   "cell_type": "markdown",
   "metadata": {},
   "source": [
    "## Output Layer"
   ]
  },
  {
   "cell_type": "code",
   "execution_count": 29,
   "metadata": {
    "execution": {
     "iopub.execute_input": "2023-04-28T12:41:30.187155Z",
     "iopub.status.busy": "2023-04-28T12:41:30.186456Z",
     "iopub.status.idle": "2023-04-28T12:41:30.375579Z",
     "shell.execute_reply": "2023-04-28T12:41:30.37458Z",
     "shell.execute_reply.started": "2023-04-28T12:41:30.187118Z"
    }
   },
   "outputs": [],
   "source": [
    "model.add(tf.keras.layers.Dense(20,activation='softmax'))"
   ]
  },
  {
   "cell_type": "code",
   "execution_count": 30,
   "metadata": {
    "execution": {
     "iopub.execute_input": "2023-04-28T12:41:30.378297Z",
     "iopub.status.busy": "2023-04-28T12:41:30.377681Z",
     "iopub.status.idle": "2023-04-28T12:41:30.396033Z",
     "shell.execute_reply": "2023-04-28T12:41:30.395135Z",
     "shell.execute_reply.started": "2023-04-28T12:41:30.378257Z"
    }
   },
   "outputs": [],
   "source": [
    "model.compile(optimizer = 'adam', loss = tf.keras.losses.CategoricalCrossentropy(), metrics = ['accuracy'])"
   ]
  },
  {
   "cell_type": "code",
   "execution_count": 31,
   "metadata": {},
   "outputs": [
    {
     "name": "stdout",
     "output_type": "stream",
     "text": [
      "Model: \"sequential\"\n",
      "_________________________________________________________________\n",
      " Layer (type)                Output Shape              Param #   \n",
      "=================================================================\n",
      " conv2d (Conv2D)             (None, 126, 126, 32)      896       \n",
      "                                                                 \n",
      " batch_normalization (BatchN  (None, 126, 126, 32)     128       \n",
      " ormalization)                                                   \n",
      "                                                                 \n",
      " max_pooling2d (MaxPooling2D  (None, 63, 63, 32)       0         \n",
      " )                                                               \n",
      "                                                                 \n",
      " dropout (Dropout)           (None, 63, 63, 32)        0         \n",
      "                                                                 \n",
      " conv2d_1 (Conv2D)           (None, 61, 61, 64)        18496     \n",
      "                                                                 \n",
      " batch_normalization_1 (Batc  (None, 61, 61, 64)       256       \n",
      " hNormalization)                                                 \n",
      "                                                                 \n",
      " max_pooling2d_1 (MaxPooling  (None, 30, 30, 64)       0         \n",
      " 2D)                                                             \n",
      "                                                                 \n",
      " dropout_1 (Dropout)         (None, 30, 30, 64)        0         \n",
      "                                                                 \n",
      " conv2d_2 (Conv2D)           (None, 28, 28, 128)       73856     \n",
      "                                                                 \n",
      " batch_normalization_2 (Batc  (None, 28, 28, 128)      512       \n",
      " hNormalization)                                                 \n",
      "                                                                 \n",
      " max_pooling2d_2 (MaxPooling  (None, 14, 14, 128)      0         \n",
      " 2D)                                                             \n",
      "                                                                 \n",
      " dropout_2 (Dropout)         (None, 14, 14, 128)       0         \n",
      "                                                                 \n",
      " conv2d_3 (Conv2D)           (None, 12, 12, 256)       295168    \n",
      "                                                                 \n",
      " batch_normalization_3 (Batc  (None, 12, 12, 256)      1024      \n",
      " hNormalization)                                                 \n",
      "                                                                 \n",
      " max_pooling2d_3 (MaxPooling  (None, 6, 6, 256)        0         \n",
      " 2D)                                                             \n",
      "                                                                 \n",
      " dropout_3 (Dropout)         (None, 6, 6, 256)         0         \n",
      "                                                                 \n",
      " flatten (Flatten)           (None, 9216)              0         \n",
      "                                                                 \n",
      " dense (Dense)               (None, 32)                294944    \n",
      "                                                                 \n",
      " batch_normalization_4 (Batc  (None, 32)               128       \n",
      " hNormalization)                                                 \n",
      "                                                                 \n",
      " dropout_4 (Dropout)         (None, 32)                0         \n",
      "                                                                 \n",
      " dense_1 (Dense)             (None, 20)                660       \n",
      "                                                                 \n",
      "=================================================================\n",
      "Total params: 686,068\n",
      "Trainable params: 685,044\n",
      "Non-trainable params: 1,024\n",
      "_________________________________________________________________\n"
     ]
    }
   ],
   "source": [
    "model.summary()"
   ]
  },
  {
   "cell_type": "code",
   "execution_count": 32,
   "metadata": {
    "execution": {
     "iopub.execute_input": "2023-04-28T12:41:30.397986Z",
     "iopub.status.busy": "2023-04-28T12:41:30.397603Z"
    }
   },
   "outputs": [
    {
     "name": "stdout",
     "output_type": "stream",
     "text": [
      "Epoch 1/10\n",
      "1759/1759 [==============================] - 72s 39ms/step - loss: 1.9379 - accuracy: 0.4525 - val_loss: 1.6019 - val_accuracy: 0.5286\n",
      "Epoch 2/10\n",
      "1759/1759 [==============================] - 67s 38ms/step - loss: 1.4636 - accuracy: 0.5781 - val_loss: 1.5103 - val_accuracy: 0.5543\n",
      "Epoch 3/10\n",
      "1759/1759 [==============================] - 68s 39ms/step - loss: 1.3056 - accuracy: 0.6213 - val_loss: 1.4223 - val_accuracy: 0.5980\n",
      "Epoch 4/10\n",
      "1759/1759 [==============================] - 69s 39ms/step - loss: 1.1917 - accuracy: 0.6533 - val_loss: 1.4261 - val_accuracy: 0.5955\n",
      "Epoch 5/10\n",
      "1759/1759 [==============================] - 67s 38ms/step - loss: 1.0946 - accuracy: 0.6799 - val_loss: 1.4094 - val_accuracy: 0.6011\n",
      "Epoch 6/10\n",
      "1759/1759 [==============================] - 71s 41ms/step - loss: 1.0386 - accuracy: 0.6984 - val_loss: 1.3952 - val_accuracy: 0.6058\n",
      "Epoch 7/10\n",
      "1759/1759 [==============================] - 69s 39ms/step - loss: 0.9707 - accuracy: 0.7129 - val_loss: 1.3762 - val_accuracy: 0.6073\n",
      "Epoch 8/10\n",
      "1759/1759 [==============================] - 68s 39ms/step - loss: 0.9355 - accuracy: 0.7203 - val_loss: 1.4208 - val_accuracy: 0.6073\n",
      "Epoch 9/10\n",
      "1759/1759 [==============================] - 69s 39ms/step - loss: 0.8857 - accuracy: 0.7384 - val_loss: 1.4224 - val_accuracy: 0.5986\n",
      "Epoch 10/10\n",
      "1759/1759 [==============================] - 70s 40ms/step - loss: 0.8510 - accuracy: 0.7435 - val_loss: 1.4060 - val_accuracy: 0.6155\n"
     ]
    },
    {
     "data": {
      "text/plain": [
       "<keras.callbacks.History at 0x244c8acbb20>"
      ]
     },
     "execution_count": 32,
     "metadata": {},
     "output_type": "execute_result"
    }
   ],
   "source": [
    "model.fit(train_generator, epochs=10, validation_data=validation_generator)"
   ]
  },
  {
   "cell_type": "code",
   "execution_count": 35,
   "metadata": {},
   "outputs": [],
   "source": [
    "model.save('bird_voice.h5')"
   ]
  }
 ],
 "metadata": {
  "kernelspec": {
   "display_name": "Python 3 (ipykernel)",
   "language": "python",
   "name": "python3"
  },
  "language_info": {
   "codemirror_mode": {
    "name": "ipython",
    "version": 3
   },
   "file_extension": ".py",
   "mimetype": "text/x-python",
   "name": "python",
   "nbconvert_exporter": "python",
   "pygments_lexer": "ipython3",
   "version": "3.10.6"
  }
 },
 "nbformat": 4,
 "nbformat_minor": 4
}
