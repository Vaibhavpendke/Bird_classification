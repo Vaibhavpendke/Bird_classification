{
 "cells": [
  {
   "cell_type": "code",
   "execution_count": 1,
   "id": "abaf86b4",
   "metadata": {},
   "outputs": [],
   "source": [
    "import tensorflow as tf\n",
    "from tensorflow import keras\n",
    "from tensorflow.keras import layers\n",
    "from tensorflow.keras.models import Sequential\n",
    "from keras.utils import image_utils\n",
    "import os\n",
    "import numpy as np\n",
    "from tensorflow.keras.preprocessing.image import ImageDataGenerator\n",
    "from PIL import Image"
   ]
  },
  {
   "cell_type": "code",
   "execution_count": 2,
   "id": "d9894a5a",
   "metadata": {},
   "outputs": [],
   "source": [
    "# Load the trained model\n",
    "model = tf.keras.models.load_model('bird_voice.h5')"
   ]
  },
  {
   "cell_type": "code",
   "execution_count": 7,
   "id": "9dc82fcd",
   "metadata": {},
   "outputs": [
    {
     "ename": "FileNotFoundError",
     "evalue": "[Errno 2] No such file or directory: 'test/barswa/1.png'",
     "output_type": "error",
     "traceback": [
      "\u001b[1;31m---------------------------------------------------------------------------\u001b[0m",
      "\u001b[1;31mFileNotFoundError\u001b[0m                         Traceback (most recent call last)",
      "Input \u001b[1;32mIn [7]\u001b[0m, in \u001b[0;36m<cell line: 2>\u001b[1;34m()\u001b[0m\n\u001b[0;32m      1\u001b[0m \u001b[38;5;66;03m# Load the image\u001b[39;00m\n\u001b[1;32m----> 2\u001b[0m image \u001b[38;5;241m=\u001b[39m \u001b[43mImage\u001b[49m\u001b[38;5;241;43m.\u001b[39;49m\u001b[43mopen\u001b[49m\u001b[43m(\u001b[49m\u001b[38;5;124;43m\"\u001b[39;49m\u001b[38;5;124;43mtest/barswa/1.png\u001b[39;49m\u001b[38;5;124;43m\"\u001b[39;49m\u001b[43m)\u001b[49m\n",
      "File \u001b[1;32m~\\AppData\\Local\\Programs\\Python\\Python310\\lib\\site-packages\\PIL\\Image.py:3131\u001b[0m, in \u001b[0;36mopen\u001b[1;34m(fp, mode, formats)\u001b[0m\n\u001b[0;32m   3128\u001b[0m     filename \u001b[38;5;241m=\u001b[39m fp\n\u001b[0;32m   3130\u001b[0m \u001b[38;5;28;01mif\u001b[39;00m filename:\n\u001b[1;32m-> 3131\u001b[0m     fp \u001b[38;5;241m=\u001b[39m \u001b[43mbuiltins\u001b[49m\u001b[38;5;241;43m.\u001b[39;49m\u001b[43mopen\u001b[49m\u001b[43m(\u001b[49m\u001b[43mfilename\u001b[49m\u001b[43m,\u001b[49m\u001b[43m \u001b[49m\u001b[38;5;124;43m\"\u001b[39;49m\u001b[38;5;124;43mrb\u001b[39;49m\u001b[38;5;124;43m\"\u001b[39;49m\u001b[43m)\u001b[49m\n\u001b[0;32m   3132\u001b[0m     exclusive_fp \u001b[38;5;241m=\u001b[39m \u001b[38;5;28;01mTrue\u001b[39;00m\n\u001b[0;32m   3134\u001b[0m \u001b[38;5;28;01mtry\u001b[39;00m:\n",
      "\u001b[1;31mFileNotFoundError\u001b[0m: [Errno 2] No such file or directory: 'test/barswa/1.png'"
     ]
    }
   ],
   "source": [
    "# Load the image\n",
    "image = Image.open(\"test/barswa/1.png\") "
   ]
  },
  {
   "cell_type": "code",
   "execution_count": 4,
   "id": "b7b4a2f3",
   "metadata": {},
   "outputs": [
    {
     "name": "stdout",
     "output_type": "stream",
     "text": [
      "1/1 [==============================] - 2s 2s/step\n"
     ]
    }
   ],
   "source": [
    "# Resize the image\n",
    "new_size = (128, 128)\n",
    "image = image.resize(new_size)\n",
    "\n",
    "# Convert the image to RGB\n",
    "image = image.convert('RGB')\n",
    "\n",
    "# Convert the image to a numpy array\n",
    "image_array = np.array(image)\n",
    "\n",
    "# Normalize the image array\n",
    "image_array = image_array / 255.0\n",
    "\n",
    "# Reshape the image array to match the input shape of your model\n",
    "input_shape = (1, 128, 128, 3)\n",
    "image_array = np.reshape(image_array, input_shape)\n",
    "\n",
    "# Pass the image array to your model for prediction\n",
    "prediction = model.predict(image_array)\n",
    "\n",
    "# Get the index of the predicted class\n",
    "predicted_class = np.argmax(prediction)"
   ]
  },
  {
   "cell_type": "code",
   "execution_count": 5,
   "id": "1072ebf1",
   "metadata": {},
   "outputs": [
    {
     "name": "stdout",
     "output_type": "stream",
     "text": [
      "['afpfly1', 'barswa', 'blacuc1', 'brubru1', 'carcha1', 'cibwar1', 'combuz1', 'eaywag1', 'egygoo', 'eubeat1', 'fotdro5', 'gargan', 'gnbcam2', 'gobbun1', 'grbcam1', 'grecor', 'greegr', 'grewoo2', 'laudov1', 'litegr']\n"
     ]
    }
   ],
   "source": [
    "# set the path to the folder you want to access\n",
    "data_path = 'spectrogram/'\n",
    "\n",
    "# change the current working directory to the data path\n",
    "os.chdir(data_path)\n",
    "\n",
    "# do something in the folder, for example, list the contents\n",
    "folder_contents = os.listdir()\n",
    "\n",
    "# print the list of folder contents\n",
    "print(folder_contents)"
   ]
  },
  {
   "cell_type": "code",
   "execution_count": 6,
   "id": "671e841b",
   "metadata": {},
   "outputs": [
    {
     "name": "stdout",
     "output_type": "stream",
     "text": [
      "9\n",
      "eubeat1\n"
     ]
    }
   ],
   "source": [
    "# Print the predicted class\n",
    "print(predicted_class)\n",
    "\n",
    "predicted_class_name = folder_contents[predicted_class]\n",
    "print(predicted_class_name)"
   ]
  },
  {
   "cell_type": "code",
   "execution_count": null,
   "id": "47fe2d4e",
   "metadata": {},
   "outputs": [],
   "source": []
  }
 ],
 "metadata": {
  "kernelspec": {
   "display_name": "Python 3 (ipykernel)",
   "language": "python",
   "name": "python3"
  },
  "language_info": {
   "codemirror_mode": {
    "name": "ipython",
    "version": 3
   },
   "file_extension": ".py",
   "mimetype": "text/x-python",
   "name": "python",
   "nbconvert_exporter": "python",
   "pygments_lexer": "ipython3",
   "version": "3.10.6"
  }
 },
 "nbformat": 4,
 "nbformat_minor": 5
}
